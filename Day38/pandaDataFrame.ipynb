{
 "cells": [
  {
   "cell_type": "code",
   "execution_count": 1,
   "metadata": {},
   "outputs": [
    {
     "name": "stdout",
     "output_type": "stream",
     "text": [
      "    name  location  age\n",
      "0   John  New York   24\n",
      "1   Anna     Paris   13\n",
      "2  Peter    Berlin   53\n",
      "3  Linda    London   33\n",
      "\n",
      "\n",
      "name         Anna\n",
      "location    Paris\n",
      "age            13\n",
      "Name: 1, dtype: object\n",
      "\n",
      "\n",
      "   name  location  age\n",
      "0  John  New York   24\n",
      "1  Anna     Paris   13\n"
     ]
    }
   ],
   "source": [
    "import pandas as pd\n",
    "\n",
    "data = {\n",
    "    'name': ['John', 'Anna', 'Peter', 'Linda'],\n",
    "    'location': ['New York', 'Paris', 'Berlin', 'London'],\n",
    "    'age': [24, 13, 53, 33]\n",
    "}\n",
    "\n",
    "data_pandas = pd.DataFrame(data)\n",
    "print(data_pandas)\n",
    "\n",
    "# Locate a specific row\n",
    "print(\"\\n\")\n",
    "print(data_pandas.loc[1])\n",
    "\n",
    "# Use a List of indexes\n",
    "print(\"\\n\")\n",
    "print(data_pandas.loc[[0, 1]])\n"
   ]
  },
  {
   "cell_type": "code",
   "execution_count": 2,
   "metadata": {},
   "outputs": [
    {
     "name": "stdout",
     "output_type": "stream",
     "text": [
      "\n",
      "\n",
      "       S.N    Grade  Subject  Unit No.          Unit Name Unit Name (नेपाली)  \\\n",
      "0        1  GRADE_9  SCIENCE      1000        MEASURMENT*                नाप   \n",
      "1        2  GRADE_9  SCIENCE      1000        MEASURMENT*                नाप   \n",
      "2        3  GRADE_9  SCIENCE    111111              FORCE    FORCE &  MOTION   \n",
      "3        4  GRADE_9  SCIENCE    111111              FORCE    FORCE &  MOTION   \n",
      "4        5  GRADE_9  SCIENCE      1111            MACHINE      साधारण यन्त्र   \n",
      "...    ...      ...      ...       ...                ...                ...   \n",
      "1805  1806  GRADE_4   NEPALI         1            व्याकरण            व्याकरण   \n",
      "1806  1807  GRADE_4   NEPALI         1            व्याकरण            व्याकरण   \n",
      "1807  1808  GRADE_4   NEPALI         1            व्याकरण            व्याकरण   \n",
      "1808  1809  GRADE_9  SCIENCE     16969  Sharad Sharma New                नाप   \n",
      "1809  1810  GRADE_9  SCIENCE      6969      Sharad Sharma                नाप   \n",
      "\n",
      "      Chapter No.                            Chapter Title (English)  \\\n",
      "0               1     MEASURMENT - PHYSICAL QUANTITY AND THEIR UNITS   \n",
      "1               2     LENGTH , MASS AND TIME AND CONVERSION OF UNITS   \n",
      "2               1             NEWTONS FIRST AND SECOND LAW OF MOTION   \n",
      "3               2         NEWTONS THIRD LAW OF MOTION AND NUMERICALS   \n",
      "4               1  SIMPLE MACHINE - MACHINE ADAVANTAGE AND VELOCI...   \n",
      "...           ...                                                ...   \n",
      "1805            1  कालका अपूर्ण पक्षका पहिचान पदव्रम मिलान पञ्चम ...   \n",
      "1806            1   (ले, लाई, बाट, को, मा) विभक्तिको पहिचान र प्रयोग   \n",
      "1807            1                       लिङ्ग सङ्गति पहिचान र प्रयोग   \n",
      "1808            1                            Measurement Using Scale   \n",
      "1809            1                            Measurement Using Scale   \n",
      "\n",
      "                                 Chapter Title (नेपाली)  \\\n",
      "0                  नाप - भौतिक परिमाणहरु र यसका एकाइहरु   \n",
      "1       नाप - लम्बाइ, पिण्ड र समय र एकाहरुबिच रुपान्तरण   \n",
      "2             न्युनटका चाल सम्बन्धी पहिलो र दोस्रो नियम   \n",
      "3     न्युनटका चाल सम्बन्धी तेस्रो नियम र गणितीय समस...   \n",
      "4          साधारण यन्त्र - यान्त्रिक फाइदा र गति अनुपात   \n",
      "...                                                 ...   \n",
      "1805                                             ??????   \n",
      "1806                                             ??????   \n",
      "1807                                             ??????   \n",
      "1808                                             ??????   \n",
      "1809                                            ???????   \n",
      "\n",
      "                                        Video Url  \\\n",
      "0     https://www.youtube.com/watch?v=wRAU6ZO_SXI   \n",
      "1     https://www.youtube.com/watch?v=sqfo8nNB06E   \n",
      "2     https://www.youtube.com/watch?v=Yv8mYq_I7FM   \n",
      "3     https://www.youtube.com/watch?v=DvaxjLmYedQ   \n",
      "4     https://www.youtube.com/watch?v=kR6wkd1hYzk   \n",
      "...                                           ...   \n",
      "1805  https://www.youtube.com/watch?v=maubyby-lpU   \n",
      "1806  https://www.youtube.com/watch?v=RM2g-dzE8fo   \n",
      "1807  https://www.youtube.com/watch?v=Nd9Zn2WWu-w   \n",
      "1808  https://www.youtube.com/watch?v=jfKfPfyJRdk   \n",
      "1809  https://www.youtube.com/watch?v=FDAzKh43QX1   \n",
      "\n",
      "                                  Instructor  \n",
      "0        riwaj.neupane@sifal.deerwalk.edu.np  \n",
      "1        riwaj.neupane@sifal.deerwalk.edu.np  \n",
      "2        riwaj.neupane@sifal.deerwalk.edu.np  \n",
      "3        riwaj.neupane@sifal.deerwalk.edu.np  \n",
      "4        riwaj.neupane@sifal.deerwalk.edu.np  \n",
      "...                                      ...  \n",
      "1805  mahadev.parajuli@sifal.deerwalk.edu.np  \n",
      "1806         tej.kafle@sifal.deerwalk.edu.np  \n",
      "1807         tej.kafle@sifal.deerwalk.edu.np  \n",
      "1808     riwaj.neupane@sifal.deerwalk.edu.np  \n",
      "1809     riwaj.neupane@sifal.deerwalk.edu.np  \n",
      "\n",
      "[1810 rows x 11 columns]\n"
     ]
    }
   ],
   "source": [
    "print(\"\\n\")\n",
    "data_csv = pd.read_csv('./data.csv')\n",
    "print(data_csv)"
   ]
  }
 ],
 "metadata": {
  "kernelspec": {
   "display_name": "Python 3",
   "language": "python",
   "name": "python3"
  },
  "language_info": {
   "codemirror_mode": {
    "name": "ipython",
    "version": 3
   },
   "file_extension": ".py",
   "mimetype": "text/x-python",
   "name": "python",
   "nbconvert_exporter": "python",
   "pygments_lexer": "ipython3",
   "version": "3.11.4"
  }
 },
 "nbformat": 4,
 "nbformat_minor": 2
}
