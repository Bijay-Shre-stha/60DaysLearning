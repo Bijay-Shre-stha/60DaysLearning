{
 "cells": [
  {
   "cell_type": "code",
   "execution_count": 8,
   "metadata": {},
   "outputs": [
    {
     "name": "stdout",
     "output_type": "stream",
     "text": [
      "[[2 5 1 3 3]\n",
      " [5 1 4 3 5]\n",
      " [2 2 2 2 2]\n",
      " [3 3 2 5 3]\n",
      " [2 4 1 5 3]\n",
      " [3 5 3 5 2]\n",
      " [3 3 5 4 2]\n",
      " [1 5 2 2 2]\n",
      " [5 5 1 4 5]\n",
      " [2 5 4 2 3]]\n"
     ]
    }
   ],
   "source": [
    "from numpy import random\n",
    "\n",
    "x = random.choice([1,2,3,4,5], p=[0.1, 0.2, 0.3, 0.2, 0.2], size=(10,5))\n",
    "print(x)"
   ]
  },
  {
   "cell_type": "code",
   "execution_count": null,
   "metadata": {},
   "outputs": [],
   "source": []
  }
 ],
 "metadata": {
  "kernelspec": {
   "display_name": "Python 3",
   "language": "python",
   "name": "python3"
  },
  "language_info": {
   "codemirror_mode": {
    "name": "ipython",
    "version": 3
   },
   "file_extension": ".py",
   "mimetype": "text/x-python",
   "name": "python",
   "nbconvert_exporter": "python",
   "pygments_lexer": "ipython3",
   "version": "3.11.4"
  }
 },
 "nbformat": 4,
 "nbformat_minor": 2
}
